{
 "cells": [
  {
   "attachments": {},
   "cell_type": "markdown",
   "metadata": {},
   "source": [
    "# Web scrapping - Berlin Restaurants\n",
    "\n",
    "Source webpage: *https://www.berlin.de/restaurants/stadtteile/*"
   ]
  },
  {
   "attachments": {},
   "cell_type": "markdown",
   "metadata": {},
   "source": [
    "##### Importing python libraries:"
   ]
  },
  {
   "cell_type": "code",
   "execution_count": 1,
   "metadata": {},
   "outputs": [],
   "source": [
    "import requests\n",
    "from bs4 import BeautifulSoup\n",
    "import pandas as pd\n",
    "import time\n",
    "import sys"
   ]
  },
  {
   "attachments": {},
   "cell_type": "markdown",
   "metadata": {},
   "source": [
    "##### Copying progress bar function:"
   ]
  },
  {
   "cell_type": "code",
   "execution_count": 2,
   "metadata": {},
   "outputs": [],
   "source": [
    "# Progress bar function\n",
    "# Source: https://stackoverflow.com/questions/3160699/python-progress-bar\n",
    "\n",
    "def progressbar(it, prefix=\"\", size=60, out=sys.stdout):\n",
    "    count = len(it)\n",
    "    def show(j):\n",
    "        x = int(size*j/count)\n",
    "        print(\"{}[{}{}] {}/{}\".format(prefix, \"#\"*x, \".\"*(size-x), j, count), \n",
    "                end='\\r', file=out, flush=True)\n",
    "    show(0)\n",
    "    for i, item in enumerate(it):\n",
    "        yield item\n",
    "        show(i+1)\n",
    "    print(\"\\n\", flush=True, file=out)"
   ]
  },
  {
   "attachments": {},
   "cell_type": "markdown",
   "metadata": {},
   "source": [
    "##### Selecting main page using Beautiful Soup:"
   ]
  },
  {
   "cell_type": "code",
   "execution_count": 3,
   "metadata": {},
   "outputs": [],
   "source": [
    "page_url = \"https://www.berlin.de/restaurants/stadtteile/\"\n",
    "page = requests.get(page_url)\n",
    "\n",
    "soup = BeautifulSoup(page.content, 'html.parser')\n",
    "#print(soup.prettify())"
   ]
  },
  {
   "attachments": {},
   "cell_type": "markdown",
   "metadata": {},
   "source": [
    "##### Finding links for each cityzone:"
   ]
  },
  {
   "cell_type": "code",
   "execution_count": 4,
   "metadata": {},
   "outputs": [],
   "source": [
    "page_list_zones = soup.find('ul', class_ = 'decoda-list')\n",
    "list_all_zones = page_list_zones.find_all('a', href=True)"
   ]
  },
  {
   "attachments": {},
   "cell_type": "markdown",
   "metadata": {},
   "source": [
    "##### Creating sublinks for each cityzone:"
   ]
  },
  {
   "cell_type": "code",
   "execution_count": 5,
   "metadata": {},
   "outputs": [
    {
     "data": {
      "text/plain": [
       "['/restaurants/stadtteile/charlottenburg/',\n",
       " '/restaurants/stadtteile/friedrichshain/',\n",
       " '/restaurants/stadtteile/hellersdorf/',\n",
       " '/restaurants/stadtteile/hohenschoenhausen/',\n",
       " '/restaurants/stadtteile/koepenick/',\n",
       " '/restaurants/stadtteile/kreuzberg/',\n",
       " '/restaurants/stadtteile/lichtenberg/',\n",
       " '/restaurants/stadtteile/marzahn/',\n",
       " '/restaurants/stadtteile/mitte/',\n",
       " '/restaurants/stadtteile/neukoelln/',\n",
       " '/restaurants/stadtteile/pankow/',\n",
       " '/restaurants/stadtteile/prenzlauer-berg/',\n",
       " '/restaurants/stadtteile/reinickendorf/',\n",
       " '/restaurants/stadtteile/schoeneberg/',\n",
       " '/restaurants/stadtteile/spandau/',\n",
       " '/restaurants/stadtteile/steglitz/',\n",
       " '/restaurants/stadtteile/tempelhof/',\n",
       " '/restaurants/stadtteile/tiergarten/',\n",
       " '/restaurants/stadtteile/treptow/',\n",
       " '/restaurants/stadtteile/wedding/',\n",
       " '/restaurants/stadtteile/weissensee/',\n",
       " '/restaurants/stadtteile/wilmersdorf/',\n",
       " '/restaurants/stadtteile/zehlendorf/']"
      ]
     },
     "execution_count": 5,
     "metadata": {},
     "output_type": "execute_result"
    }
   ],
   "source": [
    "zone_sublinks = []\n",
    "\n",
    "for el in list_all_zones:\n",
    "    zone_sublinks.append(el['href'])\n",
    "\n",
    "zone_sublinks"
   ]
  },
  {
   "attachments": {},
   "cell_type": "markdown",
   "metadata": {},
   "source": [
    "##### Creating complete links for each cityzone:"
   ]
  },
  {
   "cell_type": "code",
   "execution_count": 6,
   "metadata": {},
   "outputs": [
    {
     "data": {
      "text/plain": [
       "['https://www.berlin.de/restaurants/stadtteile/charlottenburg/',\n",
       " 'https://www.berlin.de/restaurants/stadtteile/friedrichshain/',\n",
       " 'https://www.berlin.de/restaurants/stadtteile/hellersdorf/',\n",
       " 'https://www.berlin.de/restaurants/stadtteile/hohenschoenhausen/',\n",
       " 'https://www.berlin.de/restaurants/stadtteile/koepenick/',\n",
       " 'https://www.berlin.de/restaurants/stadtteile/kreuzberg/',\n",
       " 'https://www.berlin.de/restaurants/stadtteile/lichtenberg/',\n",
       " 'https://www.berlin.de/restaurants/stadtteile/marzahn/',\n",
       " 'https://www.berlin.de/restaurants/stadtteile/mitte/',\n",
       " 'https://www.berlin.de/restaurants/stadtteile/neukoelln/',\n",
       " 'https://www.berlin.de/restaurants/stadtteile/pankow/',\n",
       " 'https://www.berlin.de/restaurants/stadtteile/prenzlauer-berg/',\n",
       " 'https://www.berlin.de/restaurants/stadtteile/reinickendorf/',\n",
       " 'https://www.berlin.de/restaurants/stadtteile/schoeneberg/',\n",
       " 'https://www.berlin.de/restaurants/stadtteile/spandau/',\n",
       " 'https://www.berlin.de/restaurants/stadtteile/steglitz/',\n",
       " 'https://www.berlin.de/restaurants/stadtteile/tempelhof/',\n",
       " 'https://www.berlin.de/restaurants/stadtteile/tiergarten/',\n",
       " 'https://www.berlin.de/restaurants/stadtteile/treptow/',\n",
       " 'https://www.berlin.de/restaurants/stadtteile/wedding/',\n",
       " 'https://www.berlin.de/restaurants/stadtteile/weissensee/',\n",
       " 'https://www.berlin.de/restaurants/stadtteile/wilmersdorf/',\n",
       " 'https://www.berlin.de/restaurants/stadtteile/zehlendorf/']"
      ]
     },
     "execution_count": 6,
     "metadata": {},
     "output_type": "execute_result"
    }
   ],
   "source": [
    "zone_links = []\n",
    "\n",
    "for zone in zone_sublinks:\n",
    "    zone_page_url = 'https://www.berlin.de' + zone\n",
    "    zone_links.append(zone_page_url)\n",
    "\n",
    "zone_links"
   ]
  },
  {
   "attachments": {},
   "cell_type": "markdown",
   "metadata": {},
   "source": [
    "##### Creating empty list for dictionaries with restaurant informations:"
   ]
  },
  {
   "cell_type": "code",
   "execution_count": 7,
   "metadata": {},
   "outputs": [],
   "source": [
    "all_restaurants_list = []"
   ]
  },
  {
   "attachments": {},
   "cell_type": "markdown",
   "metadata": {},
   "source": [
    "##### Finding links for each restaurant in each cityzone (function):"
   ]
  },
  {
   "cell_type": "code",
   "execution_count": 8,
   "metadata": {},
   "outputs": [],
   "source": [
    "def find_restaurant_links(zone_link):\n",
    "    # Opening page of each restaurant:\n",
    "    zone_page = requests.get(zone_link)\n",
    "    local_soup = BeautifulSoup(zone_page.content, 'html.parser')\n",
    "    #print(local_soup.prettify())\n",
    "    # Finding links for each restarant from each zone by searching specific \"text\" in hrefs:\n",
    "    restaurant_sublink = local_soup.find_all('a', href=lambda href: href and \"restaurants/adressen\" in href and \"html\" in href, title=False)\n",
    "\n",
    "    # Creating temporary list of sublinks for each zone:\n",
    "    subzone_sublinks = []\n",
    "\n",
    "    # Adding all sublinks info list:\n",
    "    for el in restaurant_sublink:\n",
    "        subzone_sublinks.append(el['href'])\n",
    "\n",
    "    # Adding \"htpps - prefix\" for each link:\n",
    "    for zone in subzone_sublinks:\n",
    "        zone_page_url = 'https://www.berlin.de' + zone\n",
    "        all_restaurants_list.append(zone_page_url)\n",
    "    #print(len(all_restaurants_list))\n",
    "\n",
    "    return all_restaurants_list"
   ]
  },
  {
   "attachments": {},
   "cell_type": "markdown",
   "metadata": {},
   "source": [
    "##### Looping through all zones:"
   ]
  },
  {
   "cell_type": "code",
   "execution_count": 9,
   "metadata": {},
   "outputs": [],
   "source": [
    "for link in zone_links:\n",
    "    find_restaurant_links(link)"
   ]
  },
  {
   "attachments": {},
   "cell_type": "markdown",
   "metadata": {},
   "source": [
    "##### Number of the restaurants:\n"
   ]
  },
  {
   "cell_type": "code",
   "execution_count": 10,
   "metadata": {},
   "outputs": [
    {
     "data": {
      "text/plain": [
       "2734"
      ]
     },
     "execution_count": 10,
     "metadata": {},
     "output_type": "execute_result"
    }
   ],
   "source": [
    "len(all_restaurants_list)"
   ]
  },
  {
   "attachments": {},
   "cell_type": "markdown",
   "metadata": {},
   "source": [
    "##### Creating the empty main_list where all info dictionaries will be collected:"
   ]
  },
  {
   "cell_type": "code",
   "execution_count": 11,
   "metadata": {},
   "outputs": [],
   "source": [
    "main_list = []"
   ]
  },
  {
   "attachments": {},
   "cell_type": "markdown",
   "metadata": {},
   "source": [
    "##### Getting dictionaries data - name, type of restaurant, address, zip-code & phone:"
   ]
  },
  {
   "cell_type": "code",
   "execution_count": 12,
   "metadata": {},
   "outputs": [],
   "source": [
    "def restaurant_info(restaurant):\n",
    "    \n",
    "    # Exploring restaurant subpage:\n",
    "    restaurant_page = requests.get(restaurant)\n",
    "    local_soup = BeautifulSoup(restaurant_page.content, 'html.parser')\n",
    "    #print(local_soup.prettify())\n",
    "   \n",
    "    # Finding data field:\n",
    "    restaurant_data = local_soup.find('div', class_ = 'befi-address')\n",
    "\n",
    "    # Excluding name, address, zip code and phone from field:\n",
    "    restaurant_name_tag = restaurant_data.find('div')\n",
    "    restaurant_name = restaurant_name_tag.text.strip()\n",
    "\n",
    "    restaurant_address_tag = restaurant_name_tag.find_next('div')\n",
    "    restaurant_address = restaurant_address_tag.text.strip()\n",
    "\n",
    "    restaurant_zip_tag = restaurant_data.find('span')\n",
    "    restaurant_zip = restaurant_zip_tag.text.strip()\n",
    "\n",
    "    restaurant_phone_tag = restaurant_zip_tag.find_next('a')\n",
    "    restaurant_phone = restaurant_phone_tag.text.strip()\n",
    "    # Checking if the phone number exists, otherwise writing \"None\" as a value:\n",
    "    if not restaurant_phone.startswith(\"(\"):\n",
    "        restaurant_phone = 'None'\n",
    "\n",
    "    # Finding the restaurant type in http address (link):\n",
    "    text = (restaurant.split(\"adressen/\",1)[1]).split(\"/\",1)[0]\n",
    "\n",
    "    # Splitting and merging text to get correct string type:\n",
    "    splittet_text = text.split('-',1)\n",
    "    if len(splittet_text) == 1:\n",
    "        new_name = splittet_text[0].capitalize()\n",
    "    else:\n",
    "        new_name = splittet_text[0].capitalize() + ' ' + splittet_text[1].capitalize()\n",
    "\n",
    "\n",
    "    # Creating dictionary with restaurant info according new created dataset:\n",
    "    restaurant_data[restaurant] = {'Name': restaurant_name,\n",
    "                        'Restaurant Type': new_name,\n",
    "                        'Address': restaurant_address,\n",
    "                        'Zip Code': restaurant_zip,\n",
    "                        'Phone': restaurant_phone}\n",
    "    \n",
    "    return restaurant_data[restaurant]"
   ]
  },
  {
   "attachments": {},
   "cell_type": "markdown",
   "metadata": {},
   "source": [
    "##### Looping through all restaurants and appending infos to new dataset:"
   ]
  },
  {
   "cell_type": "code",
   "execution_count": 13,
   "metadata": {},
   "outputs": [
    {
     "name": "stdout",
     "output_type": "stream",
     "text": [
      "Computing: [##################################################] 2734/2734\n",
      "\n",
      "Elapsed time: 444.4s\n"
     ]
    }
   ],
   "source": [
    "start_time = time.time()\n",
    "\n",
    "for i in progressbar(range(len(all_restaurants_list)), \"Computing: \", 50):\n",
    "    new_info = restaurant_info(all_restaurants_list[i])\n",
    "    # Appending the dictionary to the main_list:\n",
    "    main_list.append(new_info)\n",
    "\n",
    "end_time =  time.time()\n",
    "elapsed_time = end_time - start_time\n",
    "\n",
    "print(f\"Elapsed time: {round(elapsed_time,2)}s\")"
   ]
  },
  {
   "attachments": {},
   "cell_type": "markdown",
   "metadata": {},
   "source": [
    "##### Checking list format and length:"
   ]
  },
  {
   "cell_type": "code",
   "execution_count": 14,
   "metadata": {},
   "outputs": [
    {
     "data": {
      "text/plain": [
       "2734"
      ]
     },
     "execution_count": 14,
     "metadata": {},
     "output_type": "execute_result"
    }
   ],
   "source": [
    "main_list\n",
    "len(main_list)"
   ]
  },
  {
   "attachments": {},
   "cell_type": "markdown",
   "metadata": {},
   "source": [
    "##### Creating new dataset for restaurants:"
   ]
  },
  {
   "cell_type": "code",
   "execution_count": 15,
   "metadata": {},
   "outputs": [],
   "source": [
    "table_view = {'Name': [], 'Restaurant Type': [], 'Address': [], 'Zip Code': [], 'Phone': []}\n",
    "\n",
    "dataset_restaurants = pd.DataFrame.from_records(main_list)"
   ]
  },
  {
   "attachments": {},
   "cell_type": "markdown",
   "metadata": {},
   "source": [
    "##### Exporting dataset as .csv file:"
   ]
  },
  {
   "cell_type": "code",
   "execution_count": 16,
   "metadata": {},
   "outputs": [],
   "source": [
    "dataset_restaurants.to_csv('dataset_berlin_restaurants.csv')"
   ]
  }
 ],
 "metadata": {
  "kernelspec": {
   "display_name": "Python 3",
   "language": "python",
   "name": "python3"
  },
  "language_info": {
   "codemirror_mode": {
    "name": "ipython",
    "version": 3
   },
   "file_extension": ".py",
   "mimetype": "text/x-python",
   "name": "python",
   "nbconvert_exporter": "python",
   "pygments_lexer": "ipython3",
   "version": "3.10.9"
  },
  "orig_nbformat": 4,
  "vscode": {
   "interpreter": {
    "hash": "cef1d38ca744d99e247d6c4d165e12a9aa3f29f1e83d9722af487dd60dc4e580"
   }
  }
 },
 "nbformat": 4,
 "nbformat_minor": 2
}
